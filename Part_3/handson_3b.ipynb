{
 "cells": [
  {
   "cell_type": "markdown",
   "id": "20551543",
   "metadata": {},
   "source": [
    "## Hands-on 3B\n",
    "\n",
    "#### Build a Decision Tree classifier to predict the survivality of the Titanic passengers based on the data pre-processed in Hands-on 2C."
   ]
  },
  {
   "cell_type": "code",
   "execution_count": null,
   "id": "4f20619f",
   "metadata": {},
   "outputs": [],
   "source": [
    "# Initialization\n",
    "%matplotlib inline\n",
    "from warnings import filterwarnings\n",
    "filterwarnings('ignore')"
   ]
  },
  {
   "cell_type": "code",
   "execution_count": null,
   "id": "a589516f",
   "metadata": {},
   "outputs": [],
   "source": [
    "# Import libraries\n",
    "from pandas import read_csv\n",
    "from sklearn.model_selection import train_test_split as split, KFold, GridSearchCV\n",
    "from sklearn.tree import DecisionTreeClassifier"
   ]
  },
  {
   "cell_type": "code",
   "execution_count": null,
   "id": "8d8dd45c",
   "metadata": {},
   "outputs": [],
   "source": [
    "# Read data from csv file\n",
    "df = read_csv(\"titanic_processed.csv\")\n",
    "df.head()"
   ]
  },
  {
   "cell_type": "markdown",
   "id": "29fc4ef4",
   "metadata": {},
   "source": [
    "To do: \n",
    "- Store the features as variable X and targets as variable y\n",
    "- Split the features and targets into training (75%) and testing (25%) sets"
   ]
  },
  {
   "cell_type": "code",
   "execution_count": null,
   "id": "ff8c33fb",
   "metadata": {},
   "outputs": [],
   "source": []
  },
  {
   "cell_type": "markdown",
   "id": "a3ffac52",
   "metadata": {},
   "source": [
    "To do:\n",
    "- Evaluate the performance of decision tree classifier on this dataset (using the default hyperparameter values)"
   ]
  },
  {
   "cell_type": "code",
   "execution_count": null,
   "id": "76c5a1ce",
   "metadata": {
    "scrolled": true
   },
   "outputs": [],
   "source": []
  },
  {
   "cell_type": "markdown",
   "id": "5efde92b",
   "metadata": {},
   "source": [
    "To do:\n",
    "- Evaluate the performance of decision tree classifier with maximum of 8 leaf nodes on this dataset "
   ]
  },
  {
   "cell_type": "code",
   "execution_count": null,
   "id": "6a361678",
   "metadata": {},
   "outputs": [],
   "source": []
  }
 ],
 "metadata": {
  "kernelspec": {
   "display_name": "Python 3 (ipykernel)",
   "language": "python",
   "name": "python3"
  },
  "language_info": {
   "codemirror_mode": {
    "name": "ipython",
    "version": 3
   },
   "file_extension": ".py",
   "mimetype": "text/x-python",
   "name": "python",
   "nbconvert_exporter": "python",
   "pygments_lexer": "ipython3",
   "version": "3.11.3"
  }
 },
 "nbformat": 4,
 "nbformat_minor": 5
}
