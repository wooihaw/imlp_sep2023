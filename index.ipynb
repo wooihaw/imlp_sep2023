{
 "cells": [
  {
   "cell_type": "markdown",
   "metadata": {},
   "source": [
    "# Practical Artificial Intelligence with Machine and Deep Learning (Feb 2023)\n",
    "*WH Tan*"
   ]
  },
  {
   "cell_type": "markdown",
   "metadata": {},
   "source": [
    "## Index of Jupyter Notebooks\n",
    "\n",
    "### Examples\n",
    "- [Examples](Examples/Examples.ipynb)\n",
    "\n",
    "### Part 1\n",
    "- [Hands-on 1](Part_1/handson_1.ipynb)\n",
    "\n",
    "### Part 2\n",
    "- [Hands-on 2a](Part_2/handson_2a.ipynb)\n",
    "- [Hands-on 2b](Part_2/handson_2b.ipynb)\n",
    "\n",
    "### Part 3\n",
    "- [Hands-on 3a](Part_3/handson_3a.ipynb)\n",
    "- [Hands-on 3b](Part_3/handson_3b.ipynb)\n",
    "- [Hands-on 3c](Part_3/handson_3c.ipynb)\n"
   ]
  },
  {
   "cell_type": "markdown",
   "metadata": {},
   "source": [
    "*&copy; 2023 WHTan*"
   ]
  }
 ],
 "metadata": {
  "kernelspec": {
   "display_name": "Python 3 (ipykernel)",
   "language": "python",
   "name": "python3"
  },
  "language_info": {
   "codemirror_mode": {
    "name": "ipython",
    "version": 3
   },
   "file_extension": ".py",
   "mimetype": "text/x-python",
   "name": "python",
   "nbconvert_exporter": "python",
   "pygments_lexer": "ipython3",
   "version": "3.11.3"
  }
 },
 "nbformat": 4,
 "nbformat_minor": 4
}
